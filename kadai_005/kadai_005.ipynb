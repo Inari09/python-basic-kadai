{
  "nbformat": 4,
  "nbformat_minor": 0,
  "metadata": {
    "colab": {
      "provenance": [],
      "gpuType": "T4"
    },
    "kernelspec": {
      "name": "python3",
      "display_name": "Python 3"
    },
    "language_info": {
      "name": "python"
    },
    "accelerator": "GPU"
  },
  "cells": [
    {
      "cell_type": "code",
      "source": [
        "topside = float(10)\n",
        "bottomside = float(20)\n",
        "high = float(5)\n",
        "\n",
        " #trapezoid_area\n",
        "area = float((topside + bottomside) * high / 2)\n",
        "\n",
        "print(f\"{area} cm²\")\n"
      ],
      "metadata": {
        "colab": {
          "base_uri": "https://localhost:8080/"
        },
        "id": "2DuibqL6YT9r",
        "outputId": "4ed42add-79a9-49ef-8fd9-67c6bbf47d6c"
      },
      "execution_count": 25,
      "outputs": [
        {
          "output_type": "stream",
          "name": "stdout",
          "text": [
            "75.0 cm²\n"
          ]
        }
      ]
    },
    {
      "cell_type": "markdown",
      "source": [],
      "metadata": {
        "id": "l-gl0W_4grqi"
      }
    }
  ]
}